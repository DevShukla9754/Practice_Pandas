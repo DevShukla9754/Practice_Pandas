{
 "cells": [
  {
   "cell_type": "code",
   "execution_count": 1,
   "id": "03847de0",
   "metadata": {},
   "outputs": [],
   "source": [
    "import numpy as np\n",
    "import pandas as pd"
   ]
  },
  {
   "cell_type": "markdown",
   "id": "45c5fa85",
   "metadata": {},
   "source": [
    "# Series from lists"
   ]
  },
  {
   "cell_type": "code",
   "execution_count": 3,
   "id": "298913a4",
   "metadata": {},
   "outputs": [
    {
     "data": {
      "text/plain": [
       "0                       India\n",
       "1                    Pakistan\n",
       "2                       Nepal\n",
       "3                    Srilanka\n",
       "4    United States Of America\n",
       "dtype: object"
      ]
     },
     "execution_count": 3,
     "metadata": {},
     "output_type": "execute_result"
    }
   ],
   "source": [
    "country = ['India','Pakistan','Nepal','Srilanka','United States Of America']\n",
    "\n",
    "pd.Series(country)"
   ]
  },
  {
   "cell_type": "code",
   "execution_count": 4,
   "id": "5abe83af",
   "metadata": {},
   "outputs": [
    {
     "data": {
      "text/plain": [
       "0     13\n",
       "1     24\n",
       "2     45\n",
       "3    100\n",
       "4     67\n",
       "dtype: int64"
      ]
     },
     "execution_count": 4,
     "metadata": {},
     "output_type": "execute_result"
    }
   ],
   "source": [
    "# Integers\n",
    "runs = [13,24,45,100,67]\n",
    "\n",
    "runs_series = pd.Series(runs)\n",
    "runs_series"
   ]
  },
  {
   "cell_type": "code",
   "execution_count": 6,
   "id": "2ed4a063",
   "metadata": {},
   "outputs": [
    {
     "name": "stdout",
     "output_type": "stream",
     "text": [
      "english         67\n",
      "hindi           70\n",
      "science         89\n",
      "sanskrit       100\n",
      "mathematics     95\n",
      "dtype: int64\n",
      "------------------------------------------------------------\n",
      "------------------------------------------------------------\n",
      "67         english\n",
      "70           hindi\n",
      "89         science\n",
      "100       sanskrit\n",
      "95     mathematics\n",
      "dtype: object\n"
     ]
    }
   ],
   "source": [
    "# Custom Index\n",
    "marks = [67,70,89,100,95]\n",
    "subjects=['english','hindi','science','sanskrit','mathematics']\n",
    "\n",
    "ds = pd.Series(marks,index=subjects)\n",
    "print(ds)\n",
    "print('------------------------------------------------------------')\n",
    "print('------------------------------------------------------------')\n",
    "ds_1 = pd.Series(subjects,index=marks)\n",
    "print(ds_1)"
   ]
  },
  {
   "cell_type": "code",
   "execution_count": 7,
   "id": "3ec10c9e",
   "metadata": {},
   "outputs": [
    {
     "name": "stdout",
     "output_type": "stream",
     "text": [
      "english      70\n",
      "hindi        82\n",
      "sanskrit     88\n",
      "science      98\n",
      "maths       100\n",
      "Name: Dev ke marks, dtype: object\n"
     ]
    }
   ],
   "source": [
    "# Setting a name\n",
    "\n",
    "marks = ['70','82','88','98','100']\n",
    "subjects = ['english','hindi','sanskrit','science','maths']\n",
    "\n",
    "marks = pd.Series(marks,index=subjects,name='Dev ke marks')\n",
    "print(marks)"
   ]
  },
  {
   "cell_type": "markdown",
   "id": "ebbbe89f",
   "metadata": {},
   "source": [
    "# Series from Dict :- keys index ban jate hai aur value-values ban jate hai"
   ]
  },
  {
   "cell_type": "code",
   "execution_count": 26,
   "id": "6fa83220",
   "metadata": {},
   "outputs": [
    {
     "name": "stdout",
     "output_type": "stream",
     "text": [
      "english      70\n",
      "hindi        82\n",
      "sanskrit     88\n",
      "science      98\n",
      "maths       100\n",
      "Name: Dev ke marks, dtype: object\n"
     ]
    }
   ],
   "source": [
    "marks = {\n",
    "    'english':'70',\n",
    "    'hindi':'82',\n",
    "    'sanskrit':'88',\n",
    "    'science':'98',\n",
    "    'maths':'100'\n",
    "}\n",
    "\n",
    "mrks = pd.Series(marks,name='Dev ke marks')\n",
    "print(mrks)"
   ]
  },
  {
   "cell_type": "markdown",
   "id": "e29e9ae0",
   "metadata": {},
   "source": [
    "# Series Attributes"
   ]
  },
  {
   "cell_type": "code",
   "execution_count": 27,
   "id": "7fbacb66",
   "metadata": {},
   "outputs": [
    {
     "data": {
      "text/plain": [
       "5"
      ]
     },
     "execution_count": 27,
     "metadata": {},
     "output_type": "execute_result"
    }
   ],
   "source": [
    "# Size ---- series ke andar kitne values h\n",
    "mrks.size"
   ]
  },
  {
   "cell_type": "code",
   "execution_count": 28,
   "id": "364ee88c",
   "metadata": {},
   "outputs": [
    {
     "data": {
      "text/plain": [
       "dtype('O')"
      ]
     },
     "execution_count": 28,
     "metadata": {},
     "output_type": "execute_result"
    }
   ],
   "source": [
    "# dtype\n",
    "mrks.dtype"
   ]
  },
  {
   "cell_type": "code",
   "execution_count": 29,
   "id": "fe593843",
   "metadata": {},
   "outputs": [
    {
     "data": {
      "text/plain": [
       "'Dev ke marks'"
      ]
     },
     "execution_count": 29,
     "metadata": {},
     "output_type": "execute_result"
    }
   ],
   "source": [
    "# Name\n",
    "mrks.name"
   ]
  },
  {
   "cell_type": "code",
   "execution_count": 30,
   "id": "24767300",
   "metadata": {},
   "outputs": [
    {
     "data": {
      "text/plain": [
       "True"
      ]
     },
     "execution_count": 30,
     "metadata": {},
     "output_type": "execute_result"
    }
   ],
   "source": [
    "# is_unique\n",
    "mrks.is_unique"
   ]
  },
  {
   "cell_type": "code",
   "execution_count": 31,
   "id": "a63e3105",
   "metadata": {},
   "outputs": [
    {
     "data": {
      "text/plain": [
       "Index(['english', 'hindi', 'sanskrit', 'science', 'maths'], dtype='object')"
      ]
     },
     "execution_count": 31,
     "metadata": {},
     "output_type": "execute_result"
    }
   ],
   "source": [
    "# Index\n",
    "mrks.index"
   ]
  },
  {
   "cell_type": "code",
   "execution_count": 32,
   "id": "7bc115a0",
   "metadata": {},
   "outputs": [
    {
     "data": {
      "text/plain": [
       "array(['70', '82', '88', '98', '100'], dtype=object)"
      ]
     },
     "execution_count": 32,
     "metadata": {},
     "output_type": "execute_result"
    }
   ],
   "source": [
    "# Values\n",
    "mrks.values"
   ]
  },
  {
   "cell_type": "markdown",
   "id": "a28a50fb",
   "metadata": {},
   "source": [
    "# Series using read_csv"
   ]
  },
  {
   "cell_type": "code",
   "execution_count": 37,
   "id": "73f3039a",
   "metadata": {},
   "outputs": [
    {
     "name": "stdout",
     "output_type": "stream",
     "text": [
      "     Subscribers gained\n",
      "0                    48\n",
      "1                    57\n",
      "2                    40\n",
      "3                    43\n",
      "4                    44\n",
      "..                  ...\n",
      "360                 231\n",
      "361                 226\n",
      "362                 155\n",
      "363                 144\n",
      "364                 172\n",
      "\n",
      "[365 rows x 1 columns]\n",
      "------------------------------------------------------\n",
      "------------------------------------------------------\n",
      "<class 'pandas.core.frame.DataFrame'>\n",
      "------------------------------------------------------\n",
      "------------------------------------------------------\n",
      "Convert dataframe into series\n",
      "\n",
      "0       48\n",
      "1       57\n",
      "2       40\n",
      "3       43\n",
      "4       44\n",
      "      ... \n",
      "360    231\n",
      "361    226\n",
      "362    155\n",
      "363    144\n",
      "364    172\n",
      "Name: Subscribers gained, Length: 365, dtype: int64\n"
     ]
    }
   ],
   "source": [
    "# With one columns\n",
    "print(pd.read_csv('subs.csv'))   # Ye dataframe h,series ni h\n",
    "print('------------------------------------------------------')\n",
    "print('------------------------------------------------------')\n",
    "print(type(pd.read_csv('subs.csv')))\n",
    "print('------------------------------------------------------')\n",
    "print('------------------------------------------------------')\n",
    "print('Convert dataframe into series')\n",
    "print()\n",
    "subs = pd.read_csv('subs.csv').squeeze()\n",
    "print(subs)"
   ]
  },
  {
   "cell_type": "code",
   "execution_count": 39,
   "id": "6910b572",
   "metadata": {},
   "outputs": [
    {
     "name": "stdout",
     "output_type": "stream",
     "text": [
      "match_no\n",
      "1       1\n",
      "2      23\n",
      "3      13\n",
      "4      12\n",
      "5       1\n",
      "       ..\n",
      "211     0\n",
      "212    20\n",
      "213    73\n",
      "214    25\n",
      "215     7\n",
      "Name: runs, Length: 215, dtype: int64\n"
     ]
    }
   ],
   "source": [
    "# With 2 columns\n",
    "kohli = pd.read_csv('kohli_ipl.csv',index_col = 'match_no').squeeze()\n",
    "print(kohli)"
   ]
  },
  {
   "cell_type": "code",
   "execution_count": 41,
   "id": "4b67f63c",
   "metadata": {},
   "outputs": [
    {
     "name": "stdout",
     "output_type": "stream",
     "text": [
      "movie\n",
      "Uri: The Surgical Strike                   Vicky Kaushal\n",
      "Battalion 609                                Vicky Ahuja\n",
      "The Accidental Prime Minister (film)         Anupam Kher\n",
      "Why Cheat India                            Emraan Hashmi\n",
      "Evening Shadows                         Mona Ambegaonkar\n",
      "                                              ...       \n",
      "Hum Tumhare Hain Sanam                    Shah Rukh Khan\n",
      "Aankhen (2002 film)                     Amitabh Bachchan\n",
      "Saathiya (film)                             Vivek Oberoi\n",
      "Company (film)                                Ajay Devgn\n",
      "Awara Paagal Deewana                        Akshay Kumar\n",
      "Name: lead, Length: 1500, dtype: object\n"
     ]
    }
   ],
   "source": [
    "bolly = pd.read_csv('bollywood.csv',index_col='movie').squeeze()\n",
    "print(bolly)"
   ]
  },
  {
   "cell_type": "markdown",
   "id": "104cdd6a",
   "metadata": {},
   "source": [
    "# Series Methods"
   ]
  },
  {
   "cell_type": "code",
   "execution_count": 42,
   "id": "dc10c53f",
   "metadata": {},
   "outputs": [
    {
     "data": {
      "text/plain": [
       "0    48\n",
       "1    57\n",
       "2    40\n",
       "3    43\n",
       "4    44\n",
       "Name: Subscribers gained, dtype: int64"
      ]
     },
     "execution_count": 42,
     "metadata": {},
     "output_type": "execute_result"
    }
   ],
   "source": [
    "# Head and Tail Method\n",
    "subs.head()"
   ]
  },
  {
   "cell_type": "code",
   "execution_count": 43,
   "id": "23c8c83f",
   "metadata": {},
   "outputs": [
    {
     "data": {
      "text/plain": [
       "match_no\n",
       "1     1\n",
       "2    23\n",
       "3    13\n",
       "Name: runs, dtype: int64"
      ]
     },
     "execution_count": 43,
     "metadata": {},
     "output_type": "execute_result"
    }
   ],
   "source": [
    "kohli.head(3)"
   ]
  },
  {
   "cell_type": "code",
   "execution_count": 44,
   "id": "ad79678d",
   "metadata": {},
   "outputs": [
    {
     "data": {
      "text/plain": [
       "match_no\n",
       "211     0\n",
       "212    20\n",
       "213    73\n",
       "214    25\n",
       "215     7\n",
       "Name: runs, dtype: int64"
      ]
     },
     "execution_count": 44,
     "metadata": {},
     "output_type": "execute_result"
    }
   ],
   "source": [
    "kohli.tail()"
   ]
  },
  {
   "cell_type": "code",
   "execution_count": 45,
   "id": "d7086de0",
   "metadata": {},
   "outputs": [
    {
     "data": {
      "text/plain": [
       "match_no\n",
       "206     0\n",
       "207     0\n",
       "208     9\n",
       "209    58\n",
       "210    30\n",
       "211     0\n",
       "212    20\n",
       "213    73\n",
       "214    25\n",
       "215     7\n",
       "Name: runs, dtype: int64"
      ]
     },
     "execution_count": 45,
     "metadata": {},
     "output_type": "execute_result"
    }
   ],
   "source": [
    "kohli.tail(10)"
   ]
  },
  {
   "cell_type": "code",
   "execution_count": 46,
   "id": "af47a1f4",
   "metadata": {},
   "outputs": [
    {
     "data": {
      "text/plain": [
       "movie\n",
       "Chandni Chowk to China    Mithun Chakraborty\n",
       "Name: lead, dtype: object"
      ]
     },
     "execution_count": 46,
     "metadata": {},
     "output_type": "execute_result"
    }
   ],
   "source": [
    "# Sample --- randomly ek row nikal kar dikhayega\n",
    "bolly.sample()"
   ]
  },
  {
   "cell_type": "code",
   "execution_count": 47,
   "id": "ebcef75b",
   "metadata": {},
   "outputs": [
    {
     "data": {
      "text/plain": [
       "movie\n",
       "Patel Ki Punjabi Shaadi        Rishi Kapoor\n",
       "Bhoothnath                 Amitabh Bachchan\n",
       "Gunday                        Ranveer Singh\n",
       "Name: lead, dtype: object"
      ]
     },
     "execution_count": 47,
     "metadata": {},
     "output_type": "execute_result"
    }
   ],
   "source": [
    "bolly.sample(3)"
   ]
  },
  {
   "cell_type": "code",
   "execution_count": 51,
   "id": "b06c0df4",
   "metadata": {},
   "outputs": [
    {
     "data": {
      "text/plain": [
       "lead\n",
       "Akshay Kumar        48\n",
       "Amitabh Bachchan    45\n",
       "Ajay Devgn          38\n",
       "Salman Khan         31\n",
       "Sanjay Dutt         26\n",
       "                    ..\n",
       "Diganth              1\n",
       "Parveen Kaur         1\n",
       "Seema Azmi           1\n",
       "Akanksha Puri        1\n",
       "Edwin Fernandes      1\n",
       "Name: count, Length: 566, dtype: int64"
      ]
     },
     "execution_count": 51,
     "metadata": {},
     "output_type": "execute_result"
    }
   ],
   "source": [
    "# value_counts  --> movies\n",
    "bolly.value_counts()"
   ]
  },
  {
   "cell_type": "code",
   "execution_count": 55,
   "id": "2b3b8bfa",
   "metadata": {},
   "outputs": [
    {
     "data": {
      "text/plain": [
       "runs\n",
       "0     9\n",
       "1     8\n",
       "12    8\n",
       "9     7\n",
       "35    6\n",
       "     ..\n",
       "36    1\n",
       "45    1\n",
       "71    1\n",
       "37    1\n",
       "53    1\n",
       "Name: count, Length: 78, dtype: int64"
      ]
     },
     "execution_count": 55,
     "metadata": {},
     "output_type": "execute_result"
    }
   ],
   "source": [
    "kohli.value_counts()"
   ]
  },
  {
   "cell_type": "code",
   "execution_count": 57,
   "id": "aac89892",
   "metadata": {},
   "outputs": [
    {
     "data": {
      "text/plain": [
       "match_no\n",
       "87       0\n",
       "211      0\n",
       "207      0\n",
       "206      0\n",
       "91       0\n",
       "      ... \n",
       "164    100\n",
       "120    100\n",
       "123    108\n",
       "126    109\n",
       "128    113\n",
       "Name: runs, Length: 215, dtype: int64"
      ]
     },
     "execution_count": 57,
     "metadata": {},
     "output_type": "execute_result"
    }
   ],
   "source": [
    "# sort values\n",
    "kohli.sort_values()   # Ascending value"
   ]
  },
  {
   "cell_type": "code",
   "execution_count": 58,
   "id": "52314dbf",
   "metadata": {},
   "outputs": [
    {
     "data": {
      "text/plain": [
       "match_no\n",
       "128    113\n",
       "126    109\n",
       "123    108\n",
       "164    100\n",
       "120    100\n",
       "      ... \n",
       "93       0\n",
       "211      0\n",
       "130      0\n",
       "8        0\n",
       "135      0\n",
       "Name: runs, Length: 215, dtype: int64"
      ]
     },
     "execution_count": 58,
     "metadata": {},
     "output_type": "execute_result"
    }
   ],
   "source": [
    "kohli.sort_values(ascending=False)"
   ]
  },
  {
   "cell_type": "code",
   "execution_count": 60,
   "id": "dfcc2e68",
   "metadata": {},
   "outputs": [
    {
     "data": {
      "text/plain": [
       "match_no\n",
       "128    113\n",
       "Name: runs, dtype: int64"
      ]
     },
     "execution_count": 60,
     "metadata": {},
     "output_type": "execute_result"
    }
   ],
   "source": [
    "kohli.sort_values(ascending=False).head(1)"
   ]
  },
  {
   "cell_type": "code",
   "execution_count": 61,
   "id": "7b706876",
   "metadata": {},
   "outputs": [
    {
     "data": {
      "text/plain": [
       "113"
      ]
     },
     "execution_count": 61,
     "metadata": {},
     "output_type": "execute_result"
    }
   ],
   "source": [
    "kohli.sort_values(ascending=False).head(1).values[0]"
   ]
  },
  {
   "cell_type": "code",
   "execution_count": 62,
   "id": "1bb5b8c3",
   "metadata": {},
   "outputs": [
    {
     "ename": "ValueError",
     "evalue": "This Series is a view of some other array, to sort in-place you must create a copy",
     "output_type": "error",
     "traceback": [
      "\u001b[1;31m---------------------------------------------------------------------------\u001b[0m",
      "\u001b[1;31mValueError\u001b[0m                                Traceback (most recent call last)",
      "Cell \u001b[1;32mIn[62], line 1\u001b[0m\n\u001b[1;32m----> 1\u001b[0m \u001b[43mkohli\u001b[49m\u001b[38;5;241;43m.\u001b[39;49m\u001b[43msort_values\u001b[49m\u001b[43m(\u001b[49m\u001b[43minplace\u001b[49m\u001b[38;5;241;43m=\u001b[39;49m\u001b[38;5;28;43;01mTrue\u001b[39;49;00m\u001b[43m)\u001b[49m\n",
      "File \u001b[1;32m~\\AppData\\Local\\Programs\\Python\\Python311\\Lib\\site-packages\\pandas\\core\\series.py:3614\u001b[0m, in \u001b[0;36mSeries.sort_values\u001b[1;34m(self, axis, ascending, inplace, kind, na_position, ignore_index, key)\u001b[0m\n\u001b[0;32m   3612\u001b[0m \u001b[38;5;66;03m# GH 5856/5853\u001b[39;00m\n\u001b[0;32m   3613\u001b[0m \u001b[38;5;28;01mif\u001b[39;00m inplace \u001b[38;5;129;01mand\u001b[39;00m \u001b[38;5;28mself\u001b[39m\u001b[38;5;241m.\u001b[39m_is_cached:\n\u001b[1;32m-> 3614\u001b[0m     \u001b[38;5;28;01mraise\u001b[39;00m \u001b[38;5;167;01mValueError\u001b[39;00m(\n\u001b[0;32m   3615\u001b[0m         \u001b[38;5;124m\"\u001b[39m\u001b[38;5;124mThis Series is a view of some other array, to \u001b[39m\u001b[38;5;124m\"\u001b[39m\n\u001b[0;32m   3616\u001b[0m         \u001b[38;5;124m\"\u001b[39m\u001b[38;5;124msort in-place you must create a copy\u001b[39m\u001b[38;5;124m\"\u001b[39m\n\u001b[0;32m   3617\u001b[0m     )\n\u001b[0;32m   3619\u001b[0m \u001b[38;5;28;01mif\u001b[39;00m is_list_like(ascending):\n\u001b[0;32m   3620\u001b[0m     ascending \u001b[38;5;241m=\u001b[39m cast(Sequence[Union[\u001b[38;5;28mbool\u001b[39m, \u001b[38;5;28mint\u001b[39m]], ascending)\n",
      "\u001b[1;31mValueError\u001b[0m: This Series is a view of some other array, to sort in-place you must create a copy"
     ]
    }
   ],
   "source": [
    "kohli.sort_values(inplace=True)"
   ]
  },
  {
   "cell_type": "markdown",
   "id": "a47fcc81",
   "metadata": {},
   "source": [
    "# Series Maths Methods"
   ]
  },
  {
   "cell_type": "code",
   "execution_count": 63,
   "id": "b56793bd",
   "metadata": {},
   "outputs": [
    {
     "data": {
      "text/plain": [
       "215"
      ]
     },
     "execution_count": 63,
     "metadata": {},
     "output_type": "execute_result"
    }
   ],
   "source": [
    "# count --> missing methods ko count ni krta lkin size method missing values ko bhi count krta hai\n",
    "kohli.count()"
   ]
  },
  {
   "cell_type": "code",
   "execution_count": 64,
   "id": "6f4e2f71",
   "metadata": {},
   "outputs": [
    {
     "data": {
      "text/plain": [
       "6634"
      ]
     },
     "execution_count": 64,
     "metadata": {},
     "output_type": "execute_result"
    }
   ],
   "source": [
    "kohli.sum()"
   ]
  },
  {
   "cell_type": "code",
   "execution_count": null,
   "id": "32147086",
   "metadata": {},
   "outputs": [],
   "source": []
  }
 ],
 "metadata": {
  "kernelspec": {
   "display_name": "Python 3 (ipykernel)",
   "language": "python",
   "name": "python3"
  },
  "language_info": {
   "codemirror_mode": {
    "name": "ipython",
    "version": 3
   },
   "file_extension": ".py",
   "mimetype": "text/x-python",
   "name": "python",
   "nbconvert_exporter": "python",
   "pygments_lexer": "ipython3",
   "version": "3.11.3"
  }
 },
 "nbformat": 4,
 "nbformat_minor": 5
}
